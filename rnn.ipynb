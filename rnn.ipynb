{
  "nbformat": 4,
  "nbformat_minor": 0,
  "metadata": {
    "colab": {
      "provenance": [],
      "mount_file_id": "1ky26CWy_oJhiZgEFKBzZmebpWPex0zrA",
      "authorship_tag": "ABX9TyOJU2HNU1o94JYa+IahDQmj",
      "include_colab_link": true
    },
    "kernelspec": {
      "name": "python3",
      "display_name": "Python 3"
    },
    "language_info": {
      "name": "python"
    }
  },
  "cells": [
    {
      "cell_type": "markdown",
      "metadata": {
        "id": "view-in-github",
        "colab_type": "text"
      },
      "source": [
        "<a href=\"https://colab.research.google.com/github/Ramani19/namesClassifier/blob/main/rnn.ipynb\" target=\"_parent\"><img src=\"https://colab.research.google.com/assets/colab-badge.svg\" alt=\"Open In Colab\"/></a>"
      ]
    },
    {
      "cell_type": "code",
      "execution_count": null,
      "metadata": {
        "id": "QJSJZ1mbDr2q"
      },
      "outputs": [],
      "source": [
        "import torch.nn as nn\n",
        "import torch"
      ]
    },
    {
      "cell_type": "code",
      "source": [
        "class RNN(nn.Module):\n",
        "  def __init__(self, input_size, hidden_size, output_size):\n",
        "    super().__init__()\n",
        "\n",
        "    self.hidden_size = hidden_size\n",
        "    self.i2h = nn.Linear(input_size + hidden_size, hidden_size )\n",
        "    self.i2o = nn.Linear(input_size + hidden_size, output_size)\n",
        "    self.softmax = nn.LogSoftmax()\n",
        "\n",
        "\n",
        "  def forward(self, input, hidden):\n",
        "\n",
        "    combined = torch.cat((input, hidden), 1)\n",
        "\n",
        "    hidden = self.i2h(combined)\n",
        "    output = self.i2o(combined)\n",
        "\n",
        "    output = self.softmax(output)\n",
        "\n",
        "    return (hidden, output)\n",
        "\n",
        "  def init_hidden(self):\n",
        "\n",
        "    return torch.zeros(1, self.hidden_size)\n",
        "\n",
        "\n",
        "\n",
        "\n",
        "\n"
      ],
      "metadata": {
        "id": "BCrrWzhoEKfU"
      },
      "execution_count": null,
      "outputs": []
    },
    {
      "cell_type": "code",
      "source": [
        "rnn = RNN(5, 5, 10)\n",
        "\n",
        "criterion = nn.NLLLoss()\n",
        "learning_rate = 0.005\n",
        "optimizer = torch.optim.SGD(rnn.parameters(), lr=learning_rate)"
      ],
      "metadata": {
        "id": "l0m4t8VcX76Y"
      },
      "execution_count": null,
      "outputs": []
    },
    {
      "cell_type": "code",
      "source": [
        "!git clone https://githubtocolab.com/Ramani19/namesClassifier\n"
      ],
      "metadata": {
        "colab": {
          "base_uri": "https://localhost:8080/"
        },
        "id": "hy-Gs-0hYIop",
        "outputId": "664721a3-5e26-417f-c2f6-9309a98e9531"
      },
      "execution_count": null,
      "outputs": [
        {
          "output_type": "stream",
          "name": "stdout",
          "text": [
            "Cloning into 'namesClassifier'...\n",
            "warning: redirecting to https://colab.research.google.com/github/Ramani19/namesClassifier/\n",
            "fatal: https://colab.research.google.com/github/Ramani19/namesClassifier/info/refs not valid: is this a git repository?\n"
          ]
        }
      ]
    },
    {
      "cell_type": "code",
      "source": [
        "!git pull"
      ],
      "metadata": {
        "colab": {
          "base_uri": "https://localhost:8080/"
        },
        "id": "m-iMjhmTmsO1",
        "outputId": "a794ef9a-9159-49cb-db84-c1a12d43f483"
      },
      "execution_count": null,
      "outputs": [
        {
          "output_type": "stream",
          "name": "stdout",
          "text": [
            "remote: Enumerating objects: 4, done.\u001b[K\n",
            "remote: Counting objects:  25% (1/4)\u001b[K\rremote: Counting objects:  50% (2/4)\u001b[K\rremote: Counting objects:  75% (3/4)\u001b[K\rremote: Counting objects: 100% (4/4)\u001b[K\rremote: Counting objects: 100% (4/4), done.\u001b[K\n",
            "remote: Compressing objects:  50% (1/2)\u001b[K\rremote: Compressing objects: 100% (2/2)\u001b[K\rremote: Compressing objects: 100% (2/2), done.\u001b[K\n",
            "remote: Total 3 (delta 0), reused 0 (delta 0), pack-reused 0\u001b[K\n",
            "Unpacking objects:  33% (1/3)\rUnpacking objects:  66% (2/3)\rUnpacking objects: 100% (3/3)\rUnpacking objects: 100% (3/3), 931 bytes | 931.00 KiB/s, done.\n",
            "From https://github.com/Ramani19/namesClassifier\n",
            "   495d0a9..e9209b1  main       -> origin/main\n",
            "Updating 495d0a9..e9209b1\n",
            "Fast-forward\n",
            " rnn.ipynb   | 0\n",
            " utils.ipynb | 0\n",
            " 2 files changed, 0 insertions(+), 0 deletions(-)\n",
            " create mode 100644 rnn.ipynb\n",
            " create mode 100644 utils.ipynb\n"
          ]
        }
      ]
    },
    {
      "cell_type": "code",
      "source": [
        "%cd namesClassifier/"
      ],
      "metadata": {
        "colab": {
          "base_uri": "https://localhost:8080/"
        },
        "id": "f4NdWBCmxmtr",
        "outputId": "c62fe58b-4cfb-4a21-d84d-68516e0d45c5"
      },
      "execution_count": null,
      "outputs": [
        {
          "output_type": "stream",
          "name": "stdout",
          "text": [
            "/content/namesClassifier\n"
          ]
        }
      ]
    },
    {
      "cell_type": "code",
      "source": [],
      "metadata": {
        "id": "3B47cqoxx9Fx"
      },
      "execution_count": null,
      "outputs": []
    }
  ]
}